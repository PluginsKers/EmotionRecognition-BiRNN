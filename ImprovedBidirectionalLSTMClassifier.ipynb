{
 "cells": [
  {
   "cell_type": "code",
   "execution_count": 2,
   "metadata": {},
   "outputs": [],
   "source": [
    "import pandas as pd\n",
    "import numpy as np\n",
    "import torch\n",
    "import torch.nn as nn\n",
    "import torch.nn.functional as F\n",
    "import torch.optim as optim\n",
    "from sklearn.model_selection import train_test_split\n",
    "from sklearn.preprocessing import StandardScaler\n",
    "from sklearn.metrics import confusion_matrix, roc_curve, auc\n",
    "import matplotlib.pyplot as plt\n",
    "\n",
    "# 读取数据集\n",
    "data = pd.read_csv('data.csv')\n",
    "\n",
    "# 特征缩放\n",
    "# 这里使用了标准化方法，将特征转换为均值为 0，方差为 1 的分布\n",
    "scaler = StandardScaler()\n",
    "X_scaled = scaler.fit_transform(data.iloc[:, :-2].values)\n",
    "\n",
    "# 分割特征和标签\n",
    "X = X_scaled\n",
    "sensors = data.iloc[:, -2].values  # 传感器\n",
    "y = data.iloc[:, -1].values  # 标签"
   ]
  },
  {
   "cell_type": "code",
   "execution_count": 3,
   "metadata": {},
   "outputs": [
    {
     "name": "stdout",
     "output_type": "stream",
     "text": [
      "情绪类别: [0, 1, 2, 3, 4, 5, 6, 7]\n"
     ]
    }
   ],
   "source": [
    "print(f\"情绪类别: {[name for name, group in data.groupby(data.columns[-1])]}\")"
   ]
  },
  {
   "cell_type": "code",
   "execution_count": 4,
   "metadata": {
    "scrolled": true
   },
   "outputs": [],
   "source": [
    "# 将数据组织成多个时间步的序列\n",
    "seq_length = 10  # 每个样本包含的时间步数\n",
    "X_seq = []\n",
    "y_seq = []\n",
    "for name, group in data.groupby(data.columns[-1]):\n",
    "    for i in range(0, group.iloc[:, :-2].values.shape[1], seq_length):\n",
    "        chunk = group.iloc[:, :-2].iloc[:, i:i + seq_length]\n",
    "        chunk = pd.concat([chunk, group.iloc[:, -2]], axis=1) # 带上传感器信息\n",
    "        if chunk.shape[1] == seq_length + 1:\n",
    "            y_seq.append(group.iloc[0, -1])\n",
    "            X_seq.append(chunk.to_numpy())"
   ]
  },
  {
   "cell_type": "code",
   "execution_count": 6,
   "metadata": {},
   "outputs": [
    {
     "data": {
      "text/plain": [
       "array([[ 1.55,  1.55,  1.55,  1.55,  1.6 ,  1.55,  1.55,  1.55,  1.6 ,\n",
       "         1.66,  1.  ],\n",
       "       [22.77, 23.97, 26.37, 29.52, 32.65, 35.06, 38.24, 53.74, 73.86,\n",
       "        63.15,  2.  ],\n",
       "       [ 4.31,  4.31,  4.31,  4.31,  4.3 ,  4.3 ,  4.3 ,  4.3 ,  4.3 ,\n",
       "         4.3 ,  3.  ],\n",
       "       [43.07, 43.07, 43.05, 43.03, 42.98, 42.96, 42.92, 42.91, 42.92,\n",
       "        42.97,  4.  ]])"
      ]
     },
     "execution_count": 6,
     "metadata": {},
     "output_type": "execute_result"
    }
   ],
   "source": [
    "X_seq[0]"
   ]
  },
  {
   "cell_type": "code",
   "execution_count": 4,
   "metadata": {},
   "outputs": [],
   "source": [
    "assert len(X_seq) == len(y_seq)"
   ]
  },
  {
   "cell_type": "code",
   "execution_count": 5,
   "metadata": {},
   "outputs": [],
   "source": [
    "# 分割训练集、验证集和测试集\n",
    "# 划分训练集和临时集\n",
    "X_train_temp, X_test, y_train_temp, y_test = train_test_split(X_seq, y_seq, test_size=0.05, random_state=42)\n",
    "\n",
    "# 再将临时集划分为验证集和测试集\n",
    "X_train, X_val, y_train, y_val = train_test_split(X_train_temp, y_train_temp, test_size=0.1, random_state=42)"
   ]
  },
  {
   "cell_type": "code",
   "execution_count": 13,
   "metadata": {},
   "outputs": [],
   "source": [
    "emotions = [\"No Emotion \", \"Anger \", \"Hate \", \"Grief \", \"P-Love \", \"R-Love \", \"Joy \", \"Reverence \"]\n",
    "emotions_zh = [\"无情感 \", \"生气 \", \"仇恨 \", \"悲伤 \", \"亲情\", \"爱情\", \"玩笑\", \"敬畏\"]\n",
    "emotion_encoder = {emotion: i for i, emotion in enumerate(emotions)}\n",
    "emotion_decoder = {i: emotion for i, emotion in enumerate(emotions)}"
   ]
  },
  {
   "cell_type": "code",
   "execution_count": 6,
   "metadata": {},
   "outputs": [
    {
     "name": "stdout",
     "output_type": "stream",
     "text": [
      "cuda\n"
     ]
    }
   ],
   "source": [
    "# 将数据转换为 PyTorch 张量并移动到 GPU\n",
    "device = torch.device(\"cuda\" if torch.cuda.is_available() else \"cpu\")\n",
    "print(device)"
   ]
  },
  {
   "cell_type": "code",
   "execution_count": 7,
   "metadata": {},
   "outputs": [],
   "source": [
    "# 将数据转换为 PyTorch 张量\n",
    "X_train_array = np.array(X_train) # 将列表转换为数组\n",
    "y_train_array = np.array(y_train) # 将列表转换为数组\n",
    "X_test_array = np.array(X_test) # 将列表转换为数组\n",
    "y_test_array = np.array(y_test) # 将列表转换为数组\n",
    "X_val_array = np.array(X_val) # 将列表转换为数组\n",
    "y_val_array = np.array(y_val) # 将列表转换为数组\n",
    "X_train_tensor = torch.tensor(X_train_array, dtype=torch.float32).to(device) # 用数组创建张量\n",
    "y_train_tensor = torch.tensor(y_train_array, dtype=torch.int64).to(device)\n",
    "X_test_tensor = torch.tensor(X_test_array, dtype=torch.float32).to(device)\n",
    "y_test_tensor = torch.tensor(y_test_array, dtype=torch.int64).to(device)\n",
    "X_val_tensor = torch.tensor(X_val_array, dtype=torch.float32).to(device)\n",
    "y_val_tensor = torch.tensor(y_val_array, dtype=torch.int64).to(device)"
   ]
  },
  {
   "cell_type": "code",
   "execution_count": 8,
   "metadata": {},
   "outputs": [],
   "source": [
    "# 模型选择\n",
    "# 这里使用了神经网络模型\n",
    "class ImprovedBidirectionalLSTMClassifier(nn.Module):\n",
    "    def __init__(self, input_dim, hidden_dim, output_dim, dropout=0.1):\n",
    "        super(ImprovedBidirectionalLSTMClassifier, self).__init__()\n",
    "        self.lstm1 = nn.LSTM(input_dim, hidden_dim,\n",
    "                             batch_first=True, bidirectional=True)\n",
    "        self.lstm2 = nn.LSTM(hidden_dim * 2, hidden_dim, batch_first=True, bidirectional=True)\n",
    "        self.fc1 = nn.Linear(hidden_dim * 2, hidden_dim)\n",
    "        \n",
    "        self.dropout1 = nn.Dropout(dropout)  # 添加dropout层\n",
    "        self.fc2 = nn.Linear(hidden_dim, hidden_dim)\n",
    "        self.dropout2 = nn.Dropout(dropout)  # 添加dropout层\n",
    "        self.fc3 = nn.Linear(hidden_dim, hidden_dim)\n",
    "        self.dropout3 = nn.Dropout(dropout)  # 添加dropout层\n",
    "        self.fc4 = nn.Linear(hidden_dim, hidden_dim)\n",
    "        \n",
    "        self.fc = nn.Linear(hidden_dim, output_dim)\n",
    "\n",
    "\n",
    "    def forward(self, x):\n",
    "        out, _ = self.lstm1(x)\n",
    "        out, _ = self.lstm2(out)\n",
    "        out = self.fc1(out)\n",
    "        out = self.dropout1(out)  # 应用dropout\n",
    "        out = self.fc2(out)\n",
    "        out = self.dropout2(out)  # 应用dropout\n",
    "        out = self.fc3(out)\n",
    "        out = self.dropout3(out)  # 应用dropout\n",
    "        out = self.fc4(out)\n",
    "        out = self.fc(out[:, -1, :])\n",
    "        return out\n",
    "\n",
    "input_dim = X_train_tensor.shape[-1]\n",
    "hidden_dim = 1024\n",
    "output_dim = 8  # 8个情绪类别\n",
    "\n",
    "model = ImprovedBidirectionalLSTMClassifier(input_dim, hidden_dim, output_dim)\n",
    "model = model.to(device)"
   ]
  },
  {
   "cell_type": "code",
   "execution_count": 9,
   "metadata": {},
   "outputs": [],
   "source": [
    "# 定义批次的大小\n",
    "batch_size = 128\n",
    "learning_rate = 5e-5\n",
    "\n",
    "criterion = nn.CrossEntropyLoss()\n",
    "optimizer = optim.Adam(model.parameters(), lr=learning_rate)\n",
    "\n",
    "# 初始化空列表以存储损失值\n",
    "train_losses = []\n",
    "val_losses = []\n",
    "val_accuracies = []\n",
    "val_epochs = []  # 记录验证的周期数\n",
    "epoch = 0"
   ]
  },
  {
   "cell_type": "code",
   "execution_count": 10,
   "metadata": {},
   "outputs": [
    {
     "data": {
      "image/png": "[encoded data removed]",
      "text/plain": [
       "<Figure size 640x480 with 1 Axes>"
      ]
     },
     "metadata": {},
     "output_type": "display_data"
    }
   ],
   "source": [
    "from IPython.display import clear_output, display\n",
    "\n",
    "def validate(epoch):\n",
    "    model.eval()\n",
    "    with torch.no_grad():\n",
    "        val_outputs = model(X_val_tensor)\n",
    "        val_loss = criterion(val_outputs, y_val_tensor)\n",
    "        val_losses.append(val_loss.item())\n",
    "        _, predicted = torch.max(val_outputs, 1)\n",
    "        val_accuracy = (predicted == y_val_tensor).sum().item() / len(y_val_tensor)\n",
    "        val_accuracies.append(val_accuracy)\n",
    "        val_epochs.append(epoch)\n",
    "\n",
    "# 计算训练数据的总批次数\n",
    "n_batches = len(X_train_tensor) // batch_size\n",
    "# 如果训练数据不能被批次大小整除，需要增加一个批次\n",
    "if len(X_train_tensor) % batch_size != 0:\n",
    "    n_batches += 1\n",
    "\n",
    "for epoch in range(epoch, epoch + 60):\n",
    "    # 初始化一个变量来存储该周期的总损失值\n",
    "    epoch_loss = 0\n",
    "    # 用循环语句来遍历训练数据的切片\n",
    "    for i in range(n_batches):\n",
    "        model.train()\n",
    "        # 获取第 i 个批次的数据\n",
    "        X_batch = X_train_tensor[i * batch_size : (i + 1) * batch_size]\n",
    "        y_batch = y_train_tensor[i * batch_size : (i + 1) * batch_size]\n",
    "        # 对第 i 个批次的数据进行训练\n",
    "        optimizer.zero_grad()\n",
    "        outputs = model(X_batch)\n",
    "        loss = criterion(outputs, y_batch)\n",
    "        # 将该批次的损失值累加到该周期的总损失值中\n",
    "        epoch_loss += loss.item()\n",
    "        loss.backward()\n",
    "        optimizer.step()\n",
    "\n",
    "    # 计算该周期的平均损失值，并将其添加到列表中\n",
    "    epoch_loss /= n_batches\n",
    "    train_losses.append(epoch_loss)\n",
    "\n",
    "    if (epoch + 1) % 5 == 0:\n",
    "        validate(epoch + 1)\n",
    "        \n",
    "    # 绘制损失曲线\n",
    "    clear_output(wait=True)  # 清除输出，等待下一次绘制\n",
    "    plt.plot(train_losses, label='Training Loss')\n",
    "    plt.plot(val_epochs, val_losses, label='Validation Loss')\n",
    "    plt.plot(val_epochs, val_accuracies, label='Validation Accuracy')\n",
    "    plt.xlabel('Epoch')\n",
    "    plt.ylabel('Loss')\n",
    "    plt.title('Training and Validation Loss Over Time')\n",
    "    plt.legend()\n",
    "    plt.show()"
   ]
  },
  {
   "cell_type": "code",
   "execution_count": 12,
   "metadata": {},
   "outputs": [
    {
     "name": "stdout",
     "output_type": "stream",
     "text": [
      "Accuracy: 0.7270455965021861\n",
      "Confusion matrix:\n",
      " [[153   1   2   3  13   3   2   4]\n",
      " [  5 145   1  21   8   4   7   4]\n",
      " [ 20   5 151   2   7  11   7   4]\n",
      " [  8   8   8 163  14   2   4   5]\n",
      " [ 18   3   8   7 128  11   9  14]\n",
      " [ 10   7  18   9  19 109  23   6]\n",
      " [  2   7   6  14   9  12 146   4]\n",
      " [  8   0   3   8  13   3   3 169]]\n",
      "AUC value: 0.5618677869212438\n"
     ]
    }
   ],
   "source": [
    "# 模型评估\n",
    "with torch.no_grad():\n",
    "    y_pred_tensor = model(X_test_tensor)\n",
    "    _, y_pred = torch.max(y_pred_tensor, 1)\n",
    "    accuracy = torch.sum(y_pred == torch.tensor(\n",
    "        y_test).to(device)).item() / len(y_test)\n",
    "    print('Accuracy:', accuracy)\n",
    "\n",
    "    cm = confusion_matrix(y_test, y_pred.cpu().numpy())\n",
    "    print('Confusion matrix:\\n', cm)\n",
    "\n",
    "    fpr, tpr, thresholds = roc_curve(y_test, y_pred.cpu().numpy(), pos_label=4)\n",
    "    auc_value = auc(fpr, tpr)\n",
    "    print('AUC value:', auc_value)"
   ]
  },
  {
   "cell_type": "code",
   "execution_count": 16,
   "metadata": {},
   "outputs": [],
   "source": [
    "torch.save(model, 'model_70.pth')"
   ]
  },
  {
   "cell_type": "code",
   "execution_count": 9,
   "metadata": {},
   "outputs": [],
   "source": [
    "# 加载整个模型\n",
    "model1 = torch.load('model_70.pth')"
   ]
  },
  {
   "cell_type": "code",
   "execution_count": 10,
   "metadata": {},
   "outputs": [
    {
     "data": {
      "text/plain": [
       "ImprovedBidirectionalLSTMClassifier(\n",
       "  (lstm1): LSTM(11, 1024, batch_first=True, bidirectional=True)\n",
       "  (lstm2): LSTM(2048, 1024, batch_first=True, bidirectional=True)\n",
       "  (fc1): Linear(in_features=2048, out_features=1024, bias=True)\n",
       "  (dropout1): Dropout(p=0.1, inplace=False)\n",
       "  (fc2): Linear(in_features=1024, out_features=1024, bias=True)\n",
       "  (dropout2): Dropout(p=0.1, inplace=False)\n",
       "  (fc3): Linear(in_features=1024, out_features=1024, bias=True)\n",
       "  (dropout3): Dropout(p=0.1, inplace=False)\n",
       "  (fc4): Linear(in_features=1024, out_features=1024, bias=True)\n",
       "  (fc): Linear(in_features=1024, out_features=8, bias=True)\n",
       ")"
      ]
     },
     "execution_count": 10,
     "metadata": {},
     "output_type": "execute_result"
    }
   ],
   "source": [
    "model1.to(device)"
   ]
  },
  {
   "cell_type": "code",
   "execution_count": 14,
   "metadata": {},
   "outputs": [],
   "source": [
    "rights = []\n",
    "wrongs = []\n",
    "with torch.no_grad():\n",
    "    y_pred_tensor = model1(X_test_tensor)\n",
    "    _, y_pred = torch.max(y_pred_tensor, 1)\n",
    "    accuracy = torch.sum(y_pred == torch.tensor(\n",
    "        y_test).to(device)).item() / len(y_test)\n",
    "    for i in range(len(y_test)):\n",
    "        if y_test[i] == y_pred[i]:\n",
    "            rights.append(emotion_decoder[int(y_test[i])])\n",
    "        if y_test[i] != y_pred[i]:\n",
    "            wrongs.append({emotion_decoder[int(y_test[i])]: emotion_decoder[int(y_pred[i])]})\n",
    "            # print(f\"正确的: {emotion_decoder[int(y_test[i])]} 得到的: {emotion_decoder[int(y_pred[i])]}\")"
   ]
  },
  {
   "cell_type": "code",
   "execution_count": 15,
   "metadata": {},
   "outputs": [
    {
     "name": "stdout",
     "output_type": "stream",
     "text": [
      "值 Anger  的占比为 12.46%\n",
      "值 Grief  的占比为 14.00%\n",
      "值 Hate  的占比为 12.97%\n",
      "值 Joy  的占比为 12.54%\n",
      "值 No Emotion  的占比为 13.14%\n",
      "值 P-Love  的占比为 11.00%\n",
      "值 R-Love  的占比为 9.36%\n",
      "值 Reverence  的占比为 14.52%\n"
     ]
    }
   ],
   "source": [
    "unique_values, counts = np.unique(np.array(rights), return_counts=True)\n",
    "\n",
    "# 计算每个值的占比\n",
    "percentages = counts / len(rights)\n",
    "\n",
    "# 打印结果\n",
    "for value, percentage in zip(unique_values, percentages):\n",
    "    print(f\"值 {value} 的占比为 {percentage:.2%}\")"
   ]
  },
  {
   "cell_type": "code",
   "execution_count": 16,
   "metadata": {},
   "outputs": [
    {
     "name": "stdout",
     "output_type": "stream",
     "text": [
      "正确情感标签 'R-Love ' 的预测结果分布:\n",
      "  预测为 'Hate ': 19.57% (18次)\n",
      "  预测为 'Grief ': 9.78% (9次)\n",
      "  预测为 'Reverence ': 6.52% (6次)\n",
      "  预测为 'Joy ': 25.00% (23次)\n",
      "  预测为 'P-Love ': 20.65% (19次)\n",
      "  预测为 'Anger ': 7.61% (7次)\n",
      "  预测为 'No Emotion ': 10.87% (10次)\n",
      "正确情感标签 'Grief ' 的预测结果分布:\n",
      "  预测为 'Anger ': 16.33% (8次)\n",
      "  预测为 'P-Love ': 28.57% (14次)\n",
      "  预测为 'Hate ': 16.33% (8次)\n",
      "  预测为 'Joy ': 8.16% (4次)\n",
      "  预测为 'No Emotion ': 16.33% (8次)\n",
      "  预测为 'Reverence ': 10.20% (5次)\n",
      "  预测为 'R-Love ': 4.08% (2次)\n",
      "正确情感标签 'No Emotion ' 的预测结果分布:\n",
      "  预测为 'Grief ': 10.71% (3次)\n",
      "  预测为 'P-Love ': 46.43% (13次)\n",
      "  预测为 'R-Love ': 10.71% (3次)\n",
      "  预测为 'Reverence ': 14.29% (4次)\n",
      "  预测为 'Hate ': 7.14% (2次)\n",
      "  预测为 'Anger ': 3.57% (1次)\n",
      "  预测为 'Joy ': 7.14% (2次)\n",
      "正确情感标签 'Joy ' 的预测结果分布:\n",
      "  预测为 'No Emotion ': 3.70% (2次)\n",
      "  预测为 'Grief ': 25.93% (14次)\n",
      "  预测为 'Hate ': 11.11% (6次)\n",
      "  预测为 'R-Love ': 22.22% (12次)\n",
      "  预测为 'P-Love ': 16.67% (9次)\n",
      "  预测为 'Anger ': 12.96% (7次)\n",
      "  预测为 'Reverence ': 7.41% (4次)\n",
      "正确情感标签 'Anger ' 的预测结果分布:\n",
      "  预测为 'No Emotion ': 10.00% (5次)\n",
      "  预测为 'Grief ': 42.00% (21次)\n",
      "  预测为 'Joy ': 14.00% (7次)\n",
      "  预测为 'P-Love ': 16.00% (8次)\n",
      "  预测为 'Reverence ': 8.00% (4次)\n",
      "  预测为 'R-Love ': 8.00% (4次)\n",
      "  预测为 'Hate ': 2.00% (1次)\n",
      "正确情感标签 'P-Love ' 的预测结果分布:\n",
      "  预测为 'No Emotion ': 25.71% (18次)\n",
      "  预测为 'Reverence ': 20.00% (14次)\n",
      "  预测为 'Grief ': 10.00% (7次)\n",
      "  预测为 'R-Love ': 15.71% (11次)\n",
      "  预测为 'Hate ': 11.43% (8次)\n",
      "  预测为 'Joy ': 12.86% (9次)\n",
      "  预测为 'Anger ': 4.29% (3次)\n",
      "正确情感标签 'Hate ' 的预测结果分布:\n",
      "  预测为 'Anger ': 8.93% (5次)\n",
      "  预测为 'No Emotion ': 35.71% (20次)\n",
      "  预测为 'P-Love ': 12.50% (7次)\n",
      "  预测为 'R-Love ': 19.64% (11次)\n",
      "  预测为 'Reverence ': 7.14% (4次)\n",
      "  预测为 'Grief ': 3.57% (2次)\n",
      "  预测为 'Joy ': 12.50% (7次)\n",
      "正确情感标签 'Reverence ' 的预测结果分布:\n",
      "  预测为 'R-Love ': 7.89% (3次)\n",
      "  预测为 'P-Love ': 34.21% (13次)\n",
      "  预测为 'Grief ': 21.05% (8次)\n",
      "  预测为 'No Emotion ': 21.05% (8次)\n",
      "  预测为 'Joy ': 7.89% (3次)\n",
      "  预测为 'Hate ': 7.89% (3次)\n"
     ]
    }
   ],
   "source": [
    "# 初始化一个字典来记录每个正确情感标签下，预测结果的数量\n",
    "results_count = {}\n",
    "\n",
    "# 遍历数据，统计结果数量\n",
    "for pair in wrongs:\n",
    "    true_emotion = list(pair.keys())[0]  # 获取正确情感标签\n",
    "    predicted_emotion = pair[true_emotion]  # 获取预测情感标签\n",
    "\n",
    "    # 如果该正确情感标签还没有记录在结果字典中，则初始化该情感标签的预测结果字典\n",
    "    if true_emotion not in results_count:\n",
    "        results_count[true_emotion] = {}\n",
    "\n",
    "    # 记录预测结果数量\n",
    "    if predicted_emotion not in results_count[true_emotion]:\n",
    "        results_count[true_emotion][predicted_emotion] = 1\n",
    "    else:\n",
    "        results_count[true_emotion][predicted_emotion] += 1\n",
    "\n",
    "# 输出结果\n",
    "for true_emotion, predicted_results in results_count.items():\n",
    "    print(f\"正确情感标签 '{true_emotion}' 的预测结果分布:\")\n",
    "    total_count = sum(predicted_results.values())\n",
    "    for predicted_emotion, count in predicted_results.items():\n",
    "        percentage = (count / total_count) * 100\n",
    "        print(f\"  预测为 '{predicted_emotion}': {percentage:.2f}% ({count}次)\")"
   ]
  },
  {
   "cell_type": "code",
   "execution_count": 17,
   "metadata": {},
   "outputs": [
    {
     "data": {
      "image/png": "[encoded data removed]",
      "text/plain": [
       "<Figure size 1200x800 with 1 Axes>"
      ]
     },
     "metadata": {},
     "output_type": "display_data"
    }
   ],
   "source": [
    "# 重新整理数据以适应绘制需求\n",
    "labels = list(results_count.keys())\n",
    "predicted_labels = set([pred for results in results_count.values() for pred in results])\n",
    "predicted_counts = {label: {pred: 0 for pred in predicted_labels} for label in labels}\n",
    "\n",
    "# 填充预测计数\n",
    "for true_emotion, predictions in results_count.items():\n",
    "    for predicted_emotion, count in predictions.items():\n",
    "        predicted_counts[true_emotion][predicted_emotion] = count\n",
    "\n",
    "# 准备绘图数据\n",
    "x = range(len(labels))  # x轴位置\n",
    "width = 0.35  # 柱状图的宽度\n",
    "\n",
    "fig, ax = plt.subplots(figsize=(12, 8))\n",
    "\n",
    "for idx, predicted_label in enumerate(predicted_labels):\n",
    "    counts = [predicted_counts[label][predicted_label] for label in labels]\n",
    "    ax.bar(x, counts, width, label=predicted_label)\n",
    "\n",
    "# 添加图表元素\n",
    "ax.set_ylabel('Counts')\n",
    "ax.set_title('Counts by true and predicted emotion')\n",
    "ax.set_xticks(x)\n",
    "ax.set_xticklabels(labels)\n",
    "ax.legend(title='Predicted Emotion')\n",
    "\n",
    "plt.xticks(rotation=45)\n",
    "plt.tight_layout()\n",
    "plt.show()"
   ]
  }
 ],
 "metadata": {
  "kernelspec": {
   "display_name": "transformers",
   "language": "python",
   "name": "transformers"
  },
  "language_info": {
   "codemirror_mode": {
    "name": "ipython",
    "version": 3
   },
   "file_extension": ".py",
   "mimetype": "text/x-python",
   "name": "python",
   "nbconvert_exporter": "python",
   "pygments_lexer": "ipython3",
   "version": "3.9.19"
  }
 },
 "nbformat": 4,
 "nbformat_minor": 4
}
